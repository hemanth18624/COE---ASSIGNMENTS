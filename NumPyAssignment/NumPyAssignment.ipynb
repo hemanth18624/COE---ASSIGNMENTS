{
 "cells": [
  {
   "cell_type": "code",
   "execution_count": 2,
   "id": "33d16da8-1402-47a1-b96f-4a7fe7e3dcec",
   "metadata": {},
   "outputs": [],
   "source": [
    "import numpy as np"
   ]
  },
  {
   "cell_type": "code",
   "execution_count": 3,
   "id": "80c6f24d-04cd-40fb-acba-b79da2a02042",
   "metadata": {},
   "outputs": [
    {
     "name": "stdout",
     "output_type": "stream",
     "text": [
      "[10 11 12 13 14 15 16 17 18 19 20 21 22 23 24 25 26 27 28 29 30 31 32 33\n",
      " 34 35 36 37 38 39 40 41 42 43 44 45 46 47 48 49 50]\n"
     ]
    }
   ],
   "source": [
    "#Array Creation\n",
    "a = np.arange(10,51,1)\n",
    "print(a)"
   ]
  },
  {
   "cell_type": "code",
   "execution_count": 4,
   "id": "077c8293-8e25-4912-9c06-39d2184d6b3f",
   "metadata": {},
   "outputs": [
    {
     "name": "stdout",
     "output_type": "stream",
     "text": [
      "[[0.43190834 0.81165886 0.94198595]\n",
      " [0.06225511 0.21655764 0.81336382]\n",
      " [0.52395236 0.46716594 0.94182002]]\n"
     ]
    }
   ],
   "source": [
    "b = np.random.rand(3,3)\n",
    "print(b)"
   ]
  },
  {
   "cell_type": "code",
   "execution_count": 5,
   "id": "88215125-e57e-4b28-bae3-065e188bda29",
   "metadata": {},
   "outputs": [
    {
     "data": {
      "text/plain": [
       "(3, 3)"
      ]
     },
     "execution_count": 5,
     "metadata": {},
     "output_type": "execute_result"
    }
   ],
   "source": [
    "#Array Attributes\n",
    "#Shape of the array\n",
    "b.shape"
   ]
  },
  {
   "cell_type": "code",
   "execution_count": 6,
   "id": "e669b1be-1d3a-4575-9011-b6b2ff1349ce",
   "metadata": {},
   "outputs": [
    {
     "data": {
      "text/plain": [
       "9"
      ]
     },
     "execution_count": 6,
     "metadata": {},
     "output_type": "execute_result"
    }
   ],
   "source": [
    "#Size of the array\n",
    "b.size"
   ]
  },
  {
   "cell_type": "code",
   "execution_count": 7,
   "id": "b56f1989-2fc3-423c-bf5d-b1ad4da99d68",
   "metadata": {},
   "outputs": [
    {
     "data": {
      "text/plain": [
       "dtype('float64')"
      ]
     },
     "execution_count": 7,
     "metadata": {},
     "output_type": "execute_result"
    }
   ],
   "source": [
    "#Data Type of the array\n",
    "b.dtype"
   ]
  },
  {
   "cell_type": "code",
   "execution_count": 10,
   "id": "9034f7c8-ef6e-4fe8-8ca1-6d8072908e98",
   "metadata": {},
   "outputs": [
    {
     "name": "stdout",
     "output_type": "stream",
     "text": [
      "[ 6  7  8  9 10]\n"
     ]
    }
   ],
   "source": [
    "#Basic Operations\n",
    "#Adding 5 to every element of a 1D Array\n",
    "c = np.arange(1,6,1)\n",
    "d = c + 5\n",
    "print(d)"
   ]
  },
  {
   "cell_type": "code",
   "execution_count": 11,
   "id": "e8bfe0c7-5510-47cf-9a28-6dd297f4a94f",
   "metadata": {},
   "outputs": [
    {
     "name": "stdout",
     "output_type": "stream",
     "text": [
      "[[ 7 16 27]\n",
      " [40 55 72]]\n"
     ]
    }
   ],
   "source": [
    "#Multiplying 2 arrays element-wise\n",
    "e = np.array([[1,2,3],[4,5,6]])\n",
    "f = np.array([[7,8,9],[10,11,12]])\n",
    "print(e * f)"
   ]
  },
  {
   "cell_type": "code",
   "execution_count": 14,
   "id": "79000487-65b2-4917-8cc1-b78092fb93ae",
   "metadata": {},
   "outputs": [
    {
     "data": {
      "text/plain": [
       "array([[1, 2, 3, 4, 5]])"
      ]
     },
     "execution_count": 14,
     "metadata": {},
     "output_type": "execute_result"
    }
   ],
   "source": [
    "#Indexing and Slicing\n",
    "g = np.array([[1,2,3,4,5],[6,7,8,9,10],[11,12,13,14,15],[16,17,18,19,20],[21,22,23,24,25]])\n",
    "g[:1,]"
   ]
  },
  {
   "cell_type": "code",
   "execution_count": 19,
   "id": "e059fbc2-9817-4709-9905-8a4a75cc5c7e",
   "metadata": {},
   "outputs": [
    {
     "data": {
      "text/plain": [
       "array([ 5, 10, 15, 20, 25])"
      ]
     },
     "execution_count": 19,
     "metadata": {},
     "output_type": "execute_result"
    }
   ],
   "source": [
    "g[:,4]"
   ]
  },
  {
   "cell_type": "code",
   "execution_count": 22,
   "id": "47d425ad-5c0e-40f3-877b-893ec7fef19b",
   "metadata": {},
   "outputs": [
    {
     "data": {
      "text/plain": [
       "array([[ 1,  2],\n",
       "       [ 6,  7],\n",
       "       [11, 12]])"
      ]
     },
     "execution_count": 22,
     "metadata": {},
     "output_type": "execute_result"
    }
   ],
   "source": [
    "#Printing subarray of first 3 rows and first 2 columns\n",
    "g[0:3,0:2]"
   ]
  },
  {
   "cell_type": "code",
   "execution_count": 38,
   "id": "6d84f096-d326-4a79-b0f8-7bc950bfe886",
   "metadata": {},
   "outputs": [
    {
     "name": "stdout",
     "output_type": "stream",
     "text": [
      "[36 11 39 40 12 66 96 44 36 45]\n"
     ]
    }
   ],
   "source": [
    "#Aggregation\n",
    "#Creating a 10-Element Array of random integers between 1 and 100\n",
    "x = np.floor(np.random.rand(10) * 99) + 1\n",
    "print(x.astype(int))"
   ]
  },
  {
   "cell_type": "code",
   "execution_count": 40,
   "id": "97b2b497-b930-4c6d-a5f0-cd6c615def1e",
   "metadata": {},
   "outputs": [
    {
     "name": "stdout",
     "output_type": "stream",
     "text": [
      "96.0\n"
     ]
    }
   ],
   "source": [
    "#Finding the maximum value\n",
    "print(x.max())"
   ]
  },
  {
   "cell_type": "code",
   "execution_count": 41,
   "id": "48672a6e-72a2-4278-b3cf-18dda5cb2271",
   "metadata": {},
   "outputs": [
    {
     "name": "stdout",
     "output_type": "stream",
     "text": [
      "11.0\n"
     ]
    }
   ],
   "source": [
    "#Finding the minimum value\n",
    "print(x.min())"
   ]
  },
  {
   "cell_type": "code",
   "execution_count": 42,
   "id": "c35a66cc-b24d-43a3-ae38-12fde55dc7a3",
   "metadata": {},
   "outputs": [
    {
     "name": "stdout",
     "output_type": "stream",
     "text": [
      "42.5\n"
     ]
    }
   ],
   "source": [
    "#Finding the mean\n",
    "print(x.mean())"
   ]
  },
  {
   "cell_type": "code",
   "execution_count": 43,
   "id": "4f5c7f14-91ad-4aab-9f42-3590770b30cb",
   "metadata": {},
   "outputs": [
    {
     "name": "stdout",
     "output_type": "stream",
     "text": [
      "23.3420221917468\n"
     ]
    }
   ],
   "source": [
    "#Finding the standard deviation\n",
    "print(x.std())"
   ]
  },
  {
   "cell_type": "code",
   "execution_count": 45,
   "id": "b18c03e4-5da3-4142-bae1-20b243b96a45",
   "metadata": {},
   "outputs": [
    {
     "data": {
      "text/plain": [
       "array([[ 1,  2,  3,  4],\n",
       "       [ 5,  6,  7,  8],\n",
       "       [ 9, 10, 11, 12]])"
      ]
     },
     "execution_count": 45,
     "metadata": {},
     "output_type": "execute_result"
    }
   ],
   "source": [
    "#Converting a 1D array of numbers from 1 to 12 into a 3 * 4 matrix\n",
    "s = np.arange(1,13,1)\n",
    "s.reshape(3,4)"
   ]
  },
  {
   "cell_type": "code",
   "execution_count": 50,
   "id": "216d4702-8585-4c03-b908-add78a7d6299",
   "metadata": {},
   "outputs": [
    {
     "name": "stdout",
     "output_type": "stream",
     "text": [
      "[[2. 3. 4.]\n",
      " [2. 3. 4.]\n",
      " [2. 3. 4.]]\n"
     ]
    }
   ],
   "source": [
    "#Broadcasting\n",
    "#Create a 3 * 3 matrix of ones. Add a 1D Array [1,2,3] to each row\n",
    "one_matrix = np.ones((3,3))\n",
    "add_matrix = np.array([1,2,3])\n",
    "result = one_matrix + add_matrix\n",
    "print(result)"
   ]
  },
  {
   "cell_type": "code",
   "execution_count": 55,
   "id": "97fbbab6-dff6-4ab7-978f-310fd8e6babc",
   "metadata": {},
   "outputs": [
    {
     "name": "stdout",
     "output_type": "stream",
     "text": [
      "[23 12  6 35 17  1  2 18  4 16]\n"
     ]
    }
   ],
   "source": [
    "#Creating a 1D array of random integers between 1 and 50\n",
    "matrix = np.floor(np.random.rand(10)*50) + 1\n",
    "print(matrix.astype(int))"
   ]
  },
  {
   "cell_type": "code",
   "execution_count": 57,
   "id": "ea59dd94-3d27-4284-b07e-c7d5c8e09f27",
   "metadata": {},
   "outputs": [
    {
     "name": "stdout",
     "output_type": "stream",
     "text": [
      "[35]\n"
     ]
    }
   ],
   "source": [
    "#Extract all elements that are divisible by 5\n",
    "extracted_elements = matrix[matrix % 5 == 0]\n",
    "print(extracted_elements.astype(int))"
   ]
  },
  {
   "cell_type": "code",
   "execution_count": 60,
   "id": "9853f721-1679-414f-affc-6e7ae002efba",
   "metadata": {},
   "outputs": [
    {
     "name": "stdout",
     "output_type": "stream",
     "text": [
      "[[ 58  64]\n",
      " [139 154]]\n"
     ]
    }
   ],
   "source": [
    "#Matrix Multiplication (or) Dot Product\n",
    "matrix1 = np.arange(1,7,1).reshape(2,3)\n",
    "matrix2 = np.arange(7,13,1).reshape(3,2)\n",
    "print(matrix1.dot(matrix2))"
   ]
  },
  {
   "cell_type": "code",
   "execution_count": 67,
   "id": "a26970d2-a4de-438a-a50f-c6187fa75c70",
   "metadata": {},
   "outputs": [
    {
     "name": "stdout",
     "output_type": "stream",
     "text": [
      "[[ 6  5  5 10]\n",
      " [ 4  9  2  6]\n",
      " [ 7  8  8  3]\n",
      " [10  3  1  9]]\n"
     ]
    }
   ],
   "source": [
    "#Advanced Indexing\n",
    "#Given an 4 * 4 array, use fancy indexing to extract the diagonal elements\n",
    "special_matrix = np.floor(np.random.rand(16) * 10) + 1\n",
    "updated_matrix = special_matrix.reshape((4,4))\n",
    "print(updated_matrix.astype(int))"
   ]
  },
  {
   "cell_type": "code",
   "execution_count": 68,
   "id": "11a542ec-8c91-4097-b5b9-e37098f5a883",
   "metadata": {},
   "outputs": [
    {
     "name": "stdout",
     "output_type": "stream",
     "text": [
      "[6. 9. 8. 9.]\n"
     ]
    }
   ],
   "source": [
    "diagonal_elements = updated_matrix[[0,1,2,3],[0,1,2,3]]\n",
    "print(diagonal_elements)"
   ]
  },
  {
   "cell_type": "code",
   "execution_count": null,
   "id": "abe7e3a7-be44-4fc2-884f-c5c873d87742",
   "metadata": {},
   "outputs": [],
   "source": []
  }
 ],
 "metadata": {
  "kernelspec": {
   "display_name": "Python 3 (ipykernel)",
   "language": "python",
   "name": "python3"
  },
  "language_info": {
   "codemirror_mode": {
    "name": "ipython",
    "version": 3
   },
   "file_extension": ".py",
   "mimetype": "text/x-python",
   "name": "python",
   "nbconvert_exporter": "python",
   "pygments_lexer": "ipython3",
   "version": "3.13.1"
  }
 },
 "nbformat": 4,
 "nbformat_minor": 5
}
